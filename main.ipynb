{
 "cells": [
  {
   "cell_type": "code",
   "execution_count": 24,
   "metadata": {
    "scrolled": true
   },
   "outputs": [
    {
     "name": "stdout",
     "output_type": "stream",
     "text": [
      "The autoreload extension is already loaded. To reload it, use:\n",
      "  %reload_ext autoreload\n"
     ]
    }
   ],
   "source": [
    "# Pour que les changements dans les modules importés (bandits.py) soient pris en compte\n",
    "%load_ext autoreload\n",
    "%autoreload 2\n",
    "# Pour afficher les figures dans le notebook\n",
    "%matplotlib inline"
   ]
  },
  {
   "cell_type": "code",
   "execution_count": 2,
   "metadata": {},
   "outputs": [],
   "source": [
    "from SarsaAgent import SarsaAgent\n",
    "from QlearningAgent import QlearningAgent\n",
    "from pprint import pprint\n",
    "import matplotlib.pyplot as plt\n",
    "import numpy as np\n",
    "import gym\n",
    "from utils import moving_average\n",
    "import pandas as pd\n",
    "\n",
    "import pickle"
   ]
  },
  {
   "cell_type": "markdown",
   "metadata": {},
   "source": [
    "## Parameters"
   ]
  },
  {
   "cell_type": "code",
   "execution_count": 3,
   "metadata": {},
   "outputs": [],
   "source": [
    "alpha = 0.1   # learning rate\n",
    "gamma = 1.0   # importance of next action\n",
    "epsilon_0 = 1\n",
    "beta_epsilon = 0.999  # influence exploration chance\n",
    "n_action = 21\n"
   ]
  },
  {
   "cell_type": "markdown",
   "metadata": {},
   "source": [
    "# Defining a random baseline "
   ]
  },
  {
   "cell_type": "code",
   "execution_count": null,
   "metadata": {
    "scrolled": true
   },
   "outputs": [],
   "source": [
    "nb_episodes = 500\n",
    "\n",
    "env = gym.make('MountainCarContinuous-v0').env\n",
    "random_rewards = []\n",
    "random_steps = []\n",
    "\n",
    "for i_episode in range(nb_episodes):\n",
    "    observation = env.reset()\n",
    "    cum_rewards = 0\n",
    "    t = 0\n",
    "    while True:\n",
    "        action = env.action_space.sample()\n",
    "        observation, reward, done, info = env.step(action)\n",
    "        if done:\n",
    "            random_steps.append(t)\n",
    "            if i_episode %10 == 0:\n",
    "                print(\"Episode finished after {} timesteps\".format(t+1))\n",
    "            break\n",
    "        cum_rewards += reward\n",
    "        t += 1\n",
    "    random_rewards.append(cum_rewards)\n",
    "env.close()"
   ]
  },
  {
   "cell_type": "code",
   "execution_count": null,
   "metadata": {},
   "outputs": [],
   "source": [
    "rewards_baseline = np.mean(random_rewards)\n",
    "steps_baseline = np.mean(random_steps)\n"
   ]
  },
  {
   "cell_type": "code",
   "execution_count": 9,
   "metadata": {},
   "outputs": [],
   "source": [
    "df_out = pd.DataFrame( {\"n_step\" :random_steps, \"reward\": random_rewards,\"epsilon\": np.ones(500)})\n",
    "\n",
    "file_name = 'historic_random_500_ep.csv'\n"
   ]
  },
  {
   "cell_type": "code",
   "execution_count": 10,
   "metadata": {},
   "outputs": [
    {
     "data": {
      "text/html": [
       "<div>\n",
       "<style scoped>\n",
       "    .dataframe tbody tr th:only-of-type {\n",
       "        vertical-align: middle;\n",
       "    }\n",
       "\n",
       "    .dataframe tbody tr th {\n",
       "        vertical-align: top;\n",
       "    }\n",
       "\n",
       "    .dataframe thead th {\n",
       "        text-align: right;\n",
       "    }\n",
       "</style>\n",
       "<table border=\"1\" class=\"dataframe\">\n",
       "  <thead>\n",
       "    <tr style=\"text-align: right;\">\n",
       "      <th></th>\n",
       "      <th>n_step</th>\n",
       "      <th>reward</th>\n",
       "      <th>epsilon</th>\n",
       "    </tr>\n",
       "  </thead>\n",
       "  <tbody>\n",
       "    <tr>\n",
       "      <th>0</th>\n",
       "      <td>12496</td>\n",
       "      <td>-411.987176</td>\n",
       "      <td>1.0</td>\n",
       "    </tr>\n",
       "    <tr>\n",
       "      <th>1</th>\n",
       "      <td>18506</td>\n",
       "      <td>-621.235888</td>\n",
       "      <td>1.0</td>\n",
       "    </tr>\n",
       "    <tr>\n",
       "      <th>2</th>\n",
       "      <td>5973</td>\n",
       "      <td>-198.902246</td>\n",
       "      <td>1.0</td>\n",
       "    </tr>\n",
       "    <tr>\n",
       "      <th>3</th>\n",
       "      <td>31320</td>\n",
       "      <td>-1042.875605</td>\n",
       "      <td>1.0</td>\n",
       "    </tr>\n",
       "    <tr>\n",
       "      <th>4</th>\n",
       "      <td>84228</td>\n",
       "      <td>-2821.316554</td>\n",
       "      <td>1.0</td>\n",
       "    </tr>\n",
       "  </tbody>\n",
       "</table>\n",
       "</div>"
      ],
      "text/plain": [
       "   n_step       reward  epsilon\n",
       "0   12496  -411.987176      1.0\n",
       "1   18506  -621.235888      1.0\n",
       "2    5973  -198.902246      1.0\n",
       "3   31320 -1042.875605      1.0\n",
       "4   84228 -2821.316554      1.0"
      ]
     },
     "execution_count": 10,
     "metadata": {},
     "output_type": "execute_result"
    }
   ],
   "source": [
    "df_out.head()"
   ]
  },
  {
   "cell_type": "code",
   "execution_count": 11,
   "metadata": {},
   "outputs": [],
   "source": [
    "df_out.to_csv (r'history/'+ file_name, index = None, header=True)"
   ]
  },
  {
   "cell_type": "markdown",
   "metadata": {},
   "source": [
    "# Training the agent "
   ]
  },
  {
   "cell_type": "code",
   "execution_count": 8,
   "metadata": {
    "scrolled": true
   },
   "outputs": [
    {
     "name": "stdout",
     "output_type": "stream",
     "text": [
      "Episode n= 0, 2209 timesteps, Reward= 26.006999999999707, epsilon= 1.0\n",
      "Episode n= 100, 4136 timesteps, Reward= -40.300000000002115, epsilon= 0.9047921471137089\n",
      "Episode n= 200, 4802 timesteps, Reward= -40.15700000000278, epsilon= 0.8186488294786356\n",
      "Episode n= 300, 15372 timesteps, Reward= -384.105000000009, epsilon= 0.7407070321560992\n",
      "Episode n= 400, 666 timesteps, Reward= 72.67999999999999, epsilon= 0.6701859060067401\n",
      "Episode n= 500, 1711 timesteps, Reward= 33.9969999999999, epsilon= 0.6063789448611847\n",
      "Episode n= 600, 2917 timesteps, Reward= 34.11800000000052, epsilon= 0.5486469074854967\n",
      "Episode n= 700, 427 timesteps, Reward= 85.37300000000003, epsilon= 0.49641141343109896\n",
      "Episode n= 800, 1057 timesteps, Reward= 52.009000000000064, epsilon= 0.4491491486100751\n",
      "Episode n= 900, 665 timesteps, Reward= 60.74399999999989, epsilon= 0.4063866225452042\n",
      "Episode n= 1000, 1068 timesteps, Reward= 83.72600000000001, epsilon= 0.36769542477096373\n",
      "Episode n= 1100, 2511 timesteps, Reward= 69.89599999999938, epsilon= 0.3326879328624075\n",
      "Episode n= 1200, 454 timesteps, Reward= 90.71399999999996, epsilon= 0.3010134290933991\n",
      "Episode n= 1300, 457 timesteps, Reward= 88.31500000000003, epsilon= 0.2723545868194768\n",
      "Episode n= 1400, 363 timesteps, Reward= 92.11699999999998, epsilon= 0.2464242913846615\n",
      "Episode n= 1500, 594 timesteps, Reward= 91.44199999999996, epsilon= 0.2229627637029021\n",
      "Episode n= 1600, 378 timesteps, Reward= 91.124, epsilon= 0.20173495769715533\n",
      "Episode n= 1700, 418 timesteps, Reward= 94.13299999999998, epsilon= 0.1825282055227024\n",
      "Episode n= 1800, 272 timesteps, Reward= 92.446, epsilon= 0.16515008698369826\n",
      "Episode n= 1900, 363 timesteps, Reward= 91.68999999999997, epsilon= 0.14942650179799616\n",
      "Episode n= 2000, 372 timesteps, Reward= 92.88299999999997, epsilon= 0.13519992539749945\n",
      "Episode n= 2100, 353 timesteps, Reward= 95.399, epsilon= 0.12232783079001679\n",
      "Episode n= 2200, 340 timesteps, Reward= 92.695, epsilon= 0.11068126067226176\n",
      "Episode n= 2300, 283 timesteps, Reward= 91.34800000000001, epsilon= 0.10014353548890784\n",
      "Episode n= 2400, 277 timesteps, Reward= 92.155, epsilon= 0.09060908449456684\n",
      "Episode n= 2500, 373 timesteps, Reward= 91.56699999999998, epsilon= 0.0819823881078466\n",
      "Episode n= 2600, 313 timesteps, Reward= 91.45200000000001, epsilon= 0.07417702096160793\n",
      "Episode n= 2700, 384 timesteps, Reward= 91.061, epsilon= 0.06711478606235183\n",
      "Episode n= 2800, 358 timesteps, Reward= 91.11200000000002, epsilon= 0.060724931384432544\n"
     ]
    },
    {
     "ename": "KeyboardInterrupt",
     "evalue": "",
     "output_type": "error",
     "traceback": [
      "\u001b[0;31m---------------------------------------------------------------------------\u001b[0m",
      "\u001b[0;31mKeyboardInterrupt\u001b[0m                         Traceback (most recent call last)",
      "\u001b[0;32m<ipython-input-8-781455e84298>\u001b[0m in \u001b[0;36m<module>\u001b[0;34m\u001b[0m\n\u001b[1;32m     26\u001b[0m         \u001b[0mnew_state\u001b[0m \u001b[0;34m=\u001b[0m \u001b[0magent\u001b[0m\u001b[0;34m.\u001b[0m\u001b[0mget_state_from_observation\u001b[0m\u001b[0;34m(\u001b[0m\u001b[0mobservation\u001b[0m\u001b[0;34m)\u001b[0m\u001b[0;34m\u001b[0m\u001b[0;34m\u001b[0m\u001b[0m\n\u001b[1;32m     27\u001b[0m         \u001b[0;31m#print(state, action[0], reward, new_state)\u001b[0m\u001b[0;34m\u001b[0m\u001b[0;34m\u001b[0m\u001b[0;34m\u001b[0m\u001b[0m\n\u001b[0;32m---> 28\u001b[0;31m         \u001b[0magent\u001b[0m\u001b[0;34m.\u001b[0m\u001b[0mfit_step\u001b[0m\u001b[0;34m(\u001b[0m\u001b[0mstate\u001b[0m\u001b[0;34m,\u001b[0m \u001b[0maction\u001b[0m\u001b[0;34m[\u001b[0m\u001b[0;36m0\u001b[0m\u001b[0;34m]\u001b[0m\u001b[0;34m,\u001b[0m \u001b[0mreward\u001b[0m\u001b[0;34m,\u001b[0m \u001b[0mnew_state\u001b[0m\u001b[0;34m)\u001b[0m\u001b[0;34m\u001b[0m\u001b[0;34m\u001b[0m\u001b[0m\n\u001b[0m\u001b[1;32m     29\u001b[0m         \u001b[0mcum_rewards\u001b[0m \u001b[0;34m+=\u001b[0m \u001b[0mreward\u001b[0m\u001b[0;34m\u001b[0m\u001b[0;34m\u001b[0m\u001b[0m\n\u001b[1;32m     30\u001b[0m         \u001b[0;32mif\u001b[0m \u001b[0mdone\u001b[0m\u001b[0;34m:\u001b[0m\u001b[0;34m\u001b[0m\u001b[0;34m\u001b[0m\u001b[0m\n",
      "\u001b[0;32m~/IAAA/AR/Projet/QlearningAgent.py\u001b[0m in \u001b[0;36mfit_step\u001b[0;34m(self, s, a, r, new_state)\u001b[0m\n\u001b[1;32m     44\u001b[0m         \u001b[0;32melse\u001b[0m\u001b[0;34m:\u001b[0m\u001b[0;34m\u001b[0m\u001b[0;34m\u001b[0m\u001b[0m\n\u001b[1;32m     45\u001b[0m             \u001b[0mnext_action\u001b[0m \u001b[0;34m=\u001b[0m \u001b[0mself\u001b[0m\u001b[0;34m.\u001b[0m\u001b[0mmoves\u001b[0m\u001b[0;34m[\u001b[0m\u001b[0mnp\u001b[0m\u001b[0;34m.\u001b[0m\u001b[0margmax\u001b[0m\u001b[0;34m(\u001b[0m\u001b[0mself\u001b[0m\u001b[0;34m.\u001b[0m\u001b[0mQ\u001b[0m\u001b[0;34m[\u001b[0m\u001b[0ms\u001b[0m\u001b[0;34m[\u001b[0m\u001b[0;36m0\u001b[0m\u001b[0;34m]\u001b[0m\u001b[0;34m,\u001b[0m\u001b[0ms\u001b[0m\u001b[0;34m[\u001b[0m\u001b[0;36m1\u001b[0m\u001b[0;34m]\u001b[0m\u001b[0;34m]\u001b[0m\u001b[0;34m)\u001b[0m\u001b[0;34m]\u001b[0m\u001b[0;34m\u001b[0m\u001b[0;34m\u001b[0m\u001b[0m\n\u001b[0;32m---> 46\u001b[0;31m         \u001b[0mmax_Q_next_step\u001b[0m \u001b[0;34m=\u001b[0m \u001b[0mnp\u001b[0m\u001b[0;34m.\u001b[0m\u001b[0mmax\u001b[0m\u001b[0;34m(\u001b[0m\u001b[0mself\u001b[0m\u001b[0;34m.\u001b[0m\u001b[0mQ\u001b[0m\u001b[0;34m[\u001b[0m\u001b[0mnew_state\u001b[0m\u001b[0;34m[\u001b[0m\u001b[0;36m0\u001b[0m\u001b[0;34m]\u001b[0m\u001b[0;34m,\u001b[0m\u001b[0mnew_state\u001b[0m\u001b[0;34m[\u001b[0m\u001b[0;36m1\u001b[0m\u001b[0;34m]\u001b[0m\u001b[0;34m]\u001b[0m\u001b[0;34m)\u001b[0m\u001b[0;34m\u001b[0m\u001b[0;34m\u001b[0m\u001b[0m\n\u001b[0m\u001b[1;32m     47\u001b[0m         \u001b[0mself\u001b[0m\u001b[0;34m.\u001b[0m\u001b[0mQ\u001b[0m\u001b[0;34m[\u001b[0m\u001b[0ms\u001b[0m\u001b[0;34m[\u001b[0m\u001b[0;36m0\u001b[0m\u001b[0;34m]\u001b[0m\u001b[0;34m,\u001b[0m\u001b[0ms\u001b[0m\u001b[0;34m[\u001b[0m\u001b[0;36m1\u001b[0m\u001b[0;34m]\u001b[0m\u001b[0;34m,\u001b[0m\u001b[0mself\u001b[0m\u001b[0;34m.\u001b[0m\u001b[0mget_action_index\u001b[0m\u001b[0;34m(\u001b[0m\u001b[0ma\u001b[0m\u001b[0;34m)\u001b[0m\u001b[0;34m]\u001b[0m \u001b[0;34m+=\u001b[0m \u001b[0mself\u001b[0m\u001b[0;34m.\u001b[0m\u001b[0malpha\u001b[0m\u001b[0;34m*\u001b[0m\u001b[0;34m(\u001b[0m\u001b[0mr\u001b[0m\u001b[0;34m+\u001b[0m \u001b[0mself\u001b[0m\u001b[0;34m.\u001b[0m\u001b[0mgamma\u001b[0m\u001b[0;34m*\u001b[0m\u001b[0mmax_Q_next_step\u001b[0m \u001b[0;34m-\u001b[0m \u001b[0mself\u001b[0m\u001b[0;34m.\u001b[0m\u001b[0mQ\u001b[0m\u001b[0;34m[\u001b[0m\u001b[0ms\u001b[0m\u001b[0;34m[\u001b[0m\u001b[0;36m0\u001b[0m\u001b[0;34m]\u001b[0m\u001b[0;34m,\u001b[0m\u001b[0ms\u001b[0m\u001b[0;34m[\u001b[0m\u001b[0;36m1\u001b[0m\u001b[0;34m]\u001b[0m\u001b[0;34m,\u001b[0m\u001b[0mself\u001b[0m\u001b[0;34m.\u001b[0m\u001b[0mget_action_index\u001b[0m\u001b[0;34m(\u001b[0m\u001b[0ma\u001b[0m\u001b[0;34m)\u001b[0m\u001b[0;34m]\u001b[0m\u001b[0;34m)\u001b[0m\u001b[0;34m\u001b[0m\u001b[0;34m\u001b[0m\u001b[0m\n\u001b[1;32m     48\u001b[0m \u001b[0;34m\u001b[0m\u001b[0m\n",
      "\u001b[0;32m<__array_function__ internals>\u001b[0m in \u001b[0;36mamax\u001b[0;34m(*args, **kwargs)\u001b[0m\n",
      "\u001b[0;31mKeyboardInterrupt\u001b[0m: "
     ]
    }
   ],
   "source": [
    "nb_episodes = 8000\n",
    "agent_name = 'qlearning'\n",
    "\n",
    "if agent_name == 'sarsa':\n",
    "    agent = SarsaAgent(alpha = alpha, gamma = gamma, epsilon = epsilon_0)\n",
    "if agent_name == 'qlearning':\n",
    "    agent = QlearningAgent(alpha = alpha, gamma = gamma, epsilon = epsilon_0)\n",
    "    \n",
    "env = gym.make('MountainCarContinuous-v0').env\n",
    "sarsa_rewards = []\n",
    "sarsa_steps = []\n",
    "sarsa_epsilons = []\n",
    "for i_episode in range(nb_episodes):\n",
    "    #agent.epsilon = epsilon_0 / (1 + beta_epsilon * i_episode)\n",
    "    agent.epsilon = epsilon_0 * (beta_epsilon ** i_episode)\n",
    "    observation = env.reset()\n",
    "    cum_rewards = 0\n",
    "    t = 0\n",
    "    sarsa_epsilons.append(agent.epsilon)\n",
    "    while True:\n",
    "        #env.render()\n",
    "        #print(observation)\n",
    "        state = agent.state\n",
    "        action = [agent.choose_action(state)]\n",
    "        observation, reward, done, info = env.step(action)\n",
    "        new_state = agent.get_state_from_observation(observation)   \n",
    "        #print(state, action[0], reward, new_state)\n",
    "        agent.fit_step(state, action[0], reward, new_state)\n",
    "        cum_rewards += reward\n",
    "        if done:\n",
    "            sarsa_steps.append(t)\n",
    "            if i_episode%100 == 0:\n",
    "                print(\"Episode n= {}, {} timesteps, Reward= {}, epsilon= {}\".format(i_episode,t+1, cum_rewards, agent.epsilon))\n",
    "            break\n",
    "        t += 1\n",
    "    sarsa_rewards.append(cum_rewards)\n",
    "env.close()"
   ]
  },
  {
   "cell_type": "markdown",
   "metadata": {},
   "source": [
    "## Exporting the agent and its training informations"
   ]
  },
  {
   "cell_type": "code",
   "execution_count": 7,
   "metadata": {},
   "outputs": [],
   "source": [
    "df_out = pd.DataFrame( {\"n_step\" :sarsa_steps, \"reward\": sarsa_rewards,\"epsilon\": sarsa_epsilons})\n",
    "file_name = 'historic_{}_episode-{}_eps-{}x{}powt_state-3x2_action-{}_5.csv'.format(agent_name,nb_episodes, epsilon_0, beta_epsilon, n_action)\n",
    "#file_name = 'historic_{}_episode-{}_div(1+{}x{}t)_state-3x2_action-{}.csv'.format(agent_name,nb_episodes, epsilon_0, beta_epsilon, n_action)\n",
    "\n",
    "\n",
    "df_out.to_csv (r'data/'+ file_name, index = None, header=True)"
   ]
  },
  {
   "cell_type": "code",
   "execution_count": 65,
   "metadata": {},
   "outputs": [],
   "source": [
    "file_name = 'agent_{}_episode-{}_eps-{}x{}powt)_state-3x2_action-{} '.format(agent_name,nb_episodes, epsilon_0, beta_epsilon, n_action)\n",
    "#file_name = 'agent_{}_episode-{}_eps-{}_div(1+{}x{}t)_state-3x2_action-{} '.format(agent_name,nb_episodes, epsilon_0, beta_epsilon, n_action)\n",
    "\n",
    "outfile = open(r'agents/'+ file_name,'wb')\n",
    "pickle.dump(agent,outfile)\n",
    "outfile.close()"
   ]
  },
  {
   "cell_type": "markdown",
   "metadata": {},
   "source": [
    "# Some useful plots"
   ]
  },
  {
   "cell_type": "code",
   "execution_count": 53,
   "metadata": {},
   "outputs": [
    {
     "data": {
      "image/png": "[encoded data removed]",
      "text/plain": [
       "<Figure size 432x288 with 1 Axes>"
      ]
     },
     "metadata": {
      "needs_background": "light"
     },
     "output_type": "display_data"
    }
   ],
   "source": [
    "x = np.arange(len(sarsa_rewards)-4)\n",
    "\n",
    "plt.plot(x, moving_average(sarsa_rewards,5), label = \"Sarsa Rewards\")\n",
    "#plt.plot(x, np.full(shape=(nb_episodes-4),fill_value=rewards_baseline), \"--g\", label = \"Random Baseline\")\n",
    "plt.ylabel(\"Rewards\")\n",
    "plt.xlabel(\" Number of Episodes\")\n",
    "plt.legend()\n",
    "plt.grid()\n",
    "plt.show()"
   ]
  },
  {
   "cell_type": "code",
   "execution_count": 38,
   "metadata": {},
   "outputs": [
    {
     "data": {
      "image/png": "[encoded data removed]",
      "text/plain": [
       "<Figure size 432x288 with 1 Axes>"
      ]
     },
     "metadata": {
      "needs_background": "light"
     },
     "output_type": "display_data"
    }
   ],
   "source": [
    "x = np.arange(len(sarsa_steps)-4)\n",
    "\n",
    "plt.plot(x, moving_average(sarsa_steps,5), label = \"Sarsa Timesteps\")\n",
    "#plt.plot(x, np.full(shape=(nb_episodes-4),fill_value=steps_baseline), \"--g\", label = \"Random Baseline\")\n",
    "plt.ylabel(\"Rewards\")\n",
    "plt.xlabel(\" Number of Timesteps\")\n",
    "plt.legend()\n",
    "plt.grid()\n",
    "plt.show()"
   ]
  },
  {
   "cell_type": "markdown",
   "metadata": {},
   "source": [
    "# Testing and rendering the best policy of the agent"
   ]
  },
  {
   "cell_type": "code",
   "execution_count": 59,
   "metadata": {
    "scrolled": true
   },
   "outputs": [
    {
     "name": "stdout",
     "output_type": "stream",
     "text": [
      "Episode n= 0 , Episode finished after 129 timesteps, Reward= 96.02199999999999\n",
      "Episode n= 1 , Episode finished after 231 timesteps, Reward= 93.83800000000002\n",
      "Episode n= 2 , Episode finished after 381 timesteps, Reward= 88.88600000000008\n",
      "Episode n= 3 , Episode finished after 246 timesteps, Reward= 91.96700000000003\n",
      "Episode n= 4 , Episode finished after 158 timesteps, Reward= 94.40000000000002\n",
      "Episode n= 5 , Episode finished after 231 timesteps, Reward= 92.43300000000002\n",
      "Episode n= 6 , Episode finished after 262 timesteps, Reward= 91.57500000000002\n",
      "Episode n= 7 , Episode finished after 395 timesteps, Reward= 87.77800000000009\n",
      "Episode n= 8 , Episode finished after 463 timesteps, Reward= 86.73000000000012\n",
      "Episode n= 9 , Episode finished after 1103 timesteps, Reward= 68.04499999999999\n"
     ]
    }
   ],
   "source": [
    "nb_episodes = 10\n",
    "\n",
    "\n",
    "for i_episode in range(nb_episodes):\n",
    "    observation = env.reset()\n",
    "    t = 0\n",
    "    cum_rewards = 0\n",
    "    while True:\n",
    "        env.render()\n",
    "        #print(observation)\n",
    "        state = agent.state\n",
    "        action = [agent.choose_best_action(state)]\n",
    "        observation, reward, done, info = env.step(action)\n",
    "        new_state = agent.get_state_from_observation(observation)   \n",
    "        #print(state, action[0], reward, new_state)\n",
    "        cum_rewards += reward\n",
    "        agent.fit_step(state, action[0], reward, new_state)\n",
    "        if done:\n",
    "            print(\"Episode n= {} , Episode finished after {} timesteps, Reward=\".format(i_episode,t+1), cum_rewards)\n",
    "            break\n",
    "        t+=1\n",
    "env.close()"
   ]
  }
 ],
 "metadata": {
  "kernelspec": {
   "display_name": "Python 3",
   "language": "python",
   "name": "python3"
  },
  "language_info": {
   "codemirror_mode": {
    "name": "ipython",
    "version": 3
   },
   "file_extension": ".py",
   "mimetype": "text/x-python",
   "name": "python",
   "nbconvert_exporter": "python",
   "pygments_lexer": "ipython3",
   "version": "3.7.3"
  }
 },
 "nbformat": 4,
 "nbformat_minor": 4
}
