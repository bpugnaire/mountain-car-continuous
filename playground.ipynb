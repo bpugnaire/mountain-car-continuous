{
 "cells": [
  {
   "cell_type": "markdown",
   "metadata": {},
   "source": [
    "# Playground pour nos Agents"
   ]
  },
  {
   "cell_type": "code",
   "execution_count": 1,
   "metadata": {},
   "outputs": [],
   "source": [
    "from SarsaAgent import SarsaAgent\n",
    "from QlearningAgent import QlearningAgent\n",
    "from pprint import pprint\n",
    "import matplotlib.pyplot as plt\n",
    "import numpy as np\n",
    "import gym\n",
    "from utils import moving_average\n",
    "import pandas as pd\n",
    "\n",
    "import pickle"
   ]
  },
  {
   "cell_type": "markdown",
   "metadata": {},
   "source": [
    "# Best Agents"
   ]
  },
  {
   "cell_type": "markdown",
   "metadata": {},
   "source": [
    "### Sarsa, 3x2 States, Epsilon décroissant 0.9 / (1 + 0.003t)"
   ]
  },
  {
   "cell_type": "code",
   "execution_count": 2,
   "metadata": {},
   "outputs": [],
   "source": [
    "env = gym.make('MountainCarContinuous-v0')\n"
   ]
  },
  {
   "cell_type": "code",
   "execution_count": 3,
   "metadata": {},
   "outputs": [],
   "source": [
    "file_name = \"agent_sarsa_episode-10000_eps-0.9_div(1+0.003xt)_state-3x2_action-21_best\"\n",
    "\n",
    "infile = open(\"agents/\"+file_name,'rb')\n",
    "\n",
    "loaded_agent = pickle.load(infile)\n",
    "infile.close()"
   ]
  },
  {
   "cell_type": "code",
   "execution_count": 4,
   "metadata": {},
   "outputs": [
    {
     "name": "stdout",
     "output_type": "stream",
     "text": [
      "Episode n= 0 , Episode finished after 140 timesteps, Reward= 93.62700000000001\n",
      "Episode n= 1 , Episode finished after 212 timesteps, Reward= 94.52600000000001\n",
      "Episode n= 2 , Episode finished after 141 timesteps, Reward= 94.39299999999999\n",
      "Episode n= 3 , Episode finished after 147 timesteps, Reward= 92.612\n",
      "Episode n= 4 , Episode finished after 136 timesteps, Reward= 93.99499999999999\n",
      "Episode n= 5 , Episode finished after 139 timesteps, Reward= 93.484\n",
      "Episode n= 6 , Episode finished after 147 timesteps, Reward= 92.35099999999998\n",
      "Episode n= 7 , Episode finished after 134 timesteps, Reward= 93.734\n",
      "Episode n= 8 , Episode finished after 233 timesteps, Reward= 90.945\n",
      "Episode n= 9 , Episode finished after 237 timesteps, Reward= 90.734\n"
     ]
    }
   ],
   "source": [
    "nb_episodes = 10\n",
    "\n",
    "\n",
    "for i_episode in range(nb_episodes):\n",
    "    observation = env.reset()\n",
    "    t = 0\n",
    "    cum_rewards = 0\n",
    "    while True:\n",
    "        env.render()\n",
    "        #print(observation)\n",
    "        state = loaded_agent.state\n",
    "        action = [loaded_agent.choose_best_action(state)]\n",
    "        observation, reward, done, info = env.step(action)\n",
    "        new_state = loaded_agent.get_state_from_observation(observation)   \n",
    "        #print(state, action[0], reward, new_state)\n",
    "        cum_rewards += reward\n",
    "        loaded_agent.fit_step(state, action[0], reward, new_state)\n",
    "        if done:\n",
    "            print(\"Episode n= {} , Episode finished after {} timesteps, Reward=\".format(i_episode,t+1), cum_rewards)\n",
    "            break\n",
    "        t+=1\n",
    "env.close()"
   ]
  },
  {
   "cell_type": "markdown",
   "metadata": {},
   "source": [
    "### 3x2 States, Qlearning, Epsilon décroissant en 1.2 / (1 + 0.003t)"
   ]
  },
  {
   "cell_type": "code",
   "execution_count": 7,
   "metadata": {},
   "outputs": [],
   "source": [
    "file_name = \"agent_qlearning_episode-10000_eps-1.2_div(1+0.003xt)_state-3x2_action-21_avg_0.93\"\n",
    "\n",
    "infile = open(\"agents/\"+file_name,'rb')\n",
    "\n",
    "loaded_agent = pickle.load(infile)\n",
    "infile.close()"
   ]
  },
  {
   "cell_type": "code",
   "execution_count": 8,
   "metadata": {},
   "outputs": [
    {
     "name": "stdout",
     "output_type": "stream",
     "text": [
      "Episode n= 0 , Episode finished after 127 timesteps, Reward= 93.377\n",
      "Episode n= 1 , Episode finished after 207 timesteps, Reward= 88.73400000000001\n",
      "Episode n= 2 , Episode finished after 124 timesteps, Reward= 93.03199999999998\n",
      "Episode n= 3 , Episode finished after 125 timesteps, Reward= 92.87899999999999\n",
      "Episode n= 4 , Episode finished after 147 timesteps, Reward= 90.65799999999999\n",
      "Episode n= 5 , Episode finished after 150 timesteps, Reward= 90.41499999999999\n",
      "Episode n= 6 , Episode finished after 125 timesteps, Reward= 92.87899999999999\n",
      "Episode n= 7 , Episode finished after 205 timesteps, Reward= 88.819\n",
      "Episode n= 8 , Episode finished after 207 timesteps, Reward= 88.73400000000001\n",
      "Episode n= 9 , Episode finished after 125 timesteps, Reward= 92.951\n"
     ]
    }
   ],
   "source": [
    "nb_episodes = 10\n",
    "\n",
    "\n",
    "for i_episode in range(nb_episodes):\n",
    "    observation = env.reset()\n",
    "    t = 0\n",
    "    cum_rewards = 0\n",
    "    while True:\n",
    "        env.render()\n",
    "        #print(observation)\n",
    "        state = loaded_agent.state\n",
    "        action = [loaded_agent.choose_best_action(state)]\n",
    "        observation, reward, done, info = env.step(action)\n",
    "        new_state = loaded_agent.get_state_from_observation(observation)   \n",
    "        #print(state, action[0], reward, new_state)\n",
    "        cum_rewards += reward\n",
    "        loaded_agent.fit_step(state, action[0], reward, new_state)\n",
    "        if done:\n",
    "            print(\"Episode n= {} , Episode finished after {} timesteps, Reward=\".format(i_episode,t+1), cum_rewards)\n",
    "            break\n",
    "        t+=1\n",
    "env.close()"
   ]
  },
  {
   "cell_type": "markdown",
   "metadata": {},
   "source": [
    "# Still Agent"
   ]
  },
  {
   "cell_type": "markdown",
   "metadata": {},
   "source": [
    "### 3x2 States, Qlearning, Epsilon décroissant en 1.2 / (1 + 0.002t)"
   ]
  },
  {
   "cell_type": "code",
   "execution_count": 5,
   "metadata": {},
   "outputs": [],
   "source": [
    "file_name = \"agent_diverge_qlearning_episode-10000_eps-1.2_div(1+0.002xt)_state-3x2_action-21 \"\n",
    "\n",
    "infile = open(\"agents/\"+file_name,'rb')\n",
    "\n",
    "loaded_agent = pickle.load(infile)\n",
    "infile.close()"
   ]
  },
  {
   "cell_type": "code",
   "execution_count": 6,
   "metadata": {},
   "outputs": [
    {
     "name": "stdout",
     "output_type": "stream",
     "text": [
      "Episode n= 0 , Episode finished after 999 timesteps, Reward= 0.0\n",
      "Episode n= 1 , Episode finished after 999 timesteps, Reward= 0.0\n",
      "Episode n= 2 , Episode finished after 999 timesteps, Reward= 0.0\n",
      "Episode n= 3 , Episode finished after 999 timesteps, Reward= 0.0\n",
      "Episode n= 4 , Episode finished after 999 timesteps, Reward= 0.0\n",
      "Episode n= 5 , Episode finished after 999 timesteps, Reward= 0.0\n",
      "Episode n= 6 , Episode finished after 999 timesteps, Reward= 0.0\n",
      "Episode n= 7 , Episode finished after 999 timesteps, Reward= 0.0\n",
      "Episode n= 8 , Episode finished after 999 timesteps, Reward= 0.0\n",
      "Episode n= 9 , Episode finished after 999 timesteps, Reward= 0.0\n"
     ]
    }
   ],
   "source": [
    "nb_episodes = 10\n",
    "\n",
    "\n",
    "for i_episode in range(nb_episodes):\n",
    "    observation = env.reset()\n",
    "    t = 0\n",
    "    cum_rewards = 0\n",
    "    while True:\n",
    "        env.render()\n",
    "        #print(observation)\n",
    "        state = loaded_agent.state\n",
    "        action = [loaded_agent.choose_best_action(state)]\n",
    "        observation, reward, done, info = env.step(action)\n",
    "        new_state = loaded_agent.get_state_from_observation(observation)   \n",
    "        #print(state, action[0], reward, new_state)\n",
    "        cum_rewards += reward\n",
    "        #loaded_agent.fit_step(state, action[0], reward, new_state)\n",
    "        if done:\n",
    "            print(\"Episode n= {} , Episode finished after {} timesteps, Reward=\".format(i_episode,t+1), cum_rewards)\n",
    "            break\n",
    "        t+=1\n",
    "env.close()"
   ]
  },
  {
   "cell_type": "markdown",
   "metadata": {},
   "source": [
    " Il s'agit là d'un cas particulier à l'entrainement Qlearning, l'agent fini par apprendre à ne pas dépenser de carburant du tout, on ne parvient alors jamais en haut de la montagne si ce cas est rencontré avec une politique d'exploration faible (epsilon petit)."
   ]
  }
 ],
 "metadata": {
  "kernelspec": {
   "display_name": "Python 3",
   "language": "python",
   "name": "python3"
  },
  "language_info": {
   "codemirror_mode": {
    "name": "ipython",
    "version": 3
   },
   "file_extension": ".py",
   "mimetype": "text/x-python",
   "name": "python",
   "nbconvert_exporter": "python",
   "pygments_lexer": "ipython3",
   "version": "3.7.3"
  }
 },
 "nbformat": 4,
 "nbformat_minor": 4
}
