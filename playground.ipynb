{
 "cells": [
  {
   "cell_type": "markdown",
   "metadata": {},
   "source": [
    "# Playground pour nos Agents"
   ]
  },
  {
   "cell_type": "code",
   "execution_count": 1,
   "metadata": {},
   "outputs": [],
   "source": [
    "from SarsaAgent import SarsaAgent\n",
    "from QlearningAgent import QlearningAgent\n",
    "from pprint import pprint\n",
    "import matplotlib.pyplot as plt\n",
    "import numpy as np\n",
    "import gym\n",
    "from utils import moving_average\n",
    "import pandas as pd\n",
    "\n",
    "import pickle"
   ]
  },
  {
   "cell_type": "markdown",
   "metadata": {},
   "source": [
    "# Best Agents"
   ]
  },
  {
   "cell_type": "markdown",
   "metadata": {},
   "source": [
    "### Sarsa, 3x2 States, Epsilon décroissant 0.9 / (1 + 0.003t)"
   ]
  },
  {
   "cell_type": "code",
   "execution_count": 2,
   "metadata": {},
   "outputs": [],
   "source": [
    "env = gym.make('MountainCarContinuous-v0')\n"
   ]
  },
  {
   "cell_type": "code",
   "execution_count": 23,
   "metadata": {},
   "outputs": [],
   "source": [
    "file_name = \"agent_sarsa_episode-10000_eps-0.9_div(1+0.003xt)_state-3x2_action-21_best\"\n",
    "\n",
    "infile = open(\"agents/\"+file_name,'rb')\n",
    "\n",
    "loaded_agent = pickle.load(infile)\n",
    "infile.close()"
   ]
  },
  {
   "cell_type": "code",
   "execution_count": 24,
   "metadata": {
    "scrolled": true
   },
   "outputs": [
    {
     "name": "stdout",
     "output_type": "stream",
     "text": [
      "Average Reward after 10000 episodes = 72.89169480000054\n"
     ]
    }
   ],
   "source": [
    "nb_episodes = 10000\n",
    "\n",
    "avg_reward = 0\n",
    "\n",
    "for i_episode in range(nb_episodes):\n",
    "    observation = env.reset()\n",
    "    t = 0\n",
    "    cum_rewards = 0\n",
    "    while True:\n",
    "        #env.render()\n",
    "        #print(observation)\n",
    "        state = loaded_agent.state\n",
    "        action = [loaded_agent.choose_best_action(state)]\n",
    "        observation, reward, done, info = env.step(action)\n",
    "        new_state = loaded_agent.get_state_from_observation(observation)   \n",
    "        #print(state, action[0], reward, new_state)\n",
    "        cum_rewards += reward\n",
    "        loaded_agent.fit_step(state, action[0], reward, new_state)\n",
    "        if done:\n",
    "            #print(\"Episode n= {} , Episode finished after {} timesteps, Reward=\".format(i_episode,t+1), cum_rewards)\n",
    "            break\n",
    "        t+=1\n",
    "    avg_reward += cum_rewards\n",
    "env.close()\n",
    "print(\"Average Reward after {} episodes = {}\".format(nb_episodes,avg_reward/nb_episodes))"
   ]
  },
  {
   "cell_type": "markdown",
   "metadata": {},
   "source": [
    "### 3x2 States, Qlearning, Epsilon décroissant en 1.2 / (1 + 0.003t)"
   ]
  },
  {
   "cell_type": "code",
   "execution_count": 21,
   "metadata": {},
   "outputs": [],
   "source": [
    "file_name = \"agent_qlearning_episode-10000_eps-1.2_div(1+0.003xt)_state-3x2_action-21_avg_0.93\"\n",
    "\n",
    "infile = open(\"agents/\"+file_name,'rb')\n",
    "\n",
    "loaded_agent = pickle.load(infile)\n",
    "infile.close()"
   ]
  },
  {
   "cell_type": "code",
   "execution_count": 22,
   "metadata": {},
   "outputs": [
    {
     "name": "stdout",
     "output_type": "stream",
     "text": [
      "Average Reward after Nb episodes = 91.68000220000059\n"
     ]
    }
   ],
   "source": [
    "nb_episodes = 10000\n",
    "\n",
    "avg_reward = 0\n",
    "\n",
    "\n",
    "for i_episode in range(nb_episodes):\n",
    "    observation = env.reset()\n",
    "    t = 0\n",
    "    cum_rewards = 0\n",
    "    while True:\n",
    "        #env.render()\n",
    "        #print(observation)\n",
    "        state = loaded_agent.state\n",
    "        action = [loaded_agent.choose_best_action(state)]\n",
    "        observation, reward, done, info = env.step(action)\n",
    "        new_state = loaded_agent.get_state_from_observation(observation)   \n",
    "        #print(state, action[0], reward, new_state)\n",
    "        cum_rewards += reward\n",
    "        loaded_agent.fit_step(state, action[0], reward, new_state)\n",
    "        if done:\n",
    "            #print(\"Episode n= {} , Episode finished after {} timesteps, Reward=\".format(i_episode,t+1), cum_rewards)\n",
    "            break\n",
    "        t+=1\n",
    "    avg_reward += cum_rewards\n",
    "env.close()\n",
    "\n",
    "print(\"Average Reward after {} episodes = {}\".format(nb_episodes,avg_reward/nb_episodes))"
   ]
  },
  {
   "cell_type": "markdown",
   "metadata": {},
   "source": [
    "# Still Agent"
   ]
  },
  {
   "cell_type": "markdown",
   "metadata": {},
   "source": [
    "### 3x2 States, Qlearning, Epsilon décroissant en 1.2 / (1 + 0.002t)"
   ]
  },
  {
   "cell_type": "code",
   "execution_count": 5,
   "metadata": {},
   "outputs": [],
   "source": [
    "file_name = \"agent_diverge_qlearning_episode-10000_eps-1.2_div(1+0.002xt)_state-3x2_action-21 \"\n",
    "\n",
    "infile = open(\"agents/\"+file_name,'rb')\n",
    "\n",
    "loaded_agent = pickle.load(infile)\n",
    "infile.close()"
   ]
  },
  {
   "cell_type": "code",
   "execution_count": 6,
   "metadata": {},
   "outputs": [
    {
     "name": "stdout",
     "output_type": "stream",
     "text": [
      "Episode n= 0 , Episode finished after 999 timesteps, Reward= 0.0\n",
      "Episode n= 1 , Episode finished after 999 timesteps, Reward= 0.0\n",
      "Episode n= 2 , Episode finished after 999 timesteps, Reward= 0.0\n",
      "Episode n= 3 , Episode finished after 999 timesteps, Reward= 0.0\n",
      "Episode n= 4 , Episode finished after 999 timesteps, Reward= 0.0\n",
      "Episode n= 5 , Episode finished after 999 timesteps, Reward= 0.0\n",
      "Episode n= 6 , Episode finished after 999 timesteps, Reward= 0.0\n",
      "Episode n= 7 , Episode finished after 999 timesteps, Reward= 0.0\n",
      "Episode n= 8 , Episode finished after 999 timesteps, Reward= 0.0\n",
      "Episode n= 9 , Episode finished after 999 timesteps, Reward= 0.0\n"
     ]
    }
   ],
   "source": [
    "nb_episodes = 10\n",
    "\n",
    "\n",
    "for i_episode in range(nb_episodes):\n",
    "    observation = env.reset()\n",
    "    t = 0\n",
    "    cum_rewards = 0\n",
    "    while True:\n",
    "        env.render()\n",
    "        #print(observation)\n",
    "        state = loaded_agent.state\n",
    "        action = [loaded_agent.choose_best_action(state)]\n",
    "        observation, reward, done, info = env.step(action)\n",
    "        new_state = loaded_agent.get_state_from_observation(observation)   \n",
    "        #print(state, action[0], reward, new_state)\n",
    "        cum_rewards += reward\n",
    "        #loaded_agent.fit_step(state, action[0], reward, new_state)\n",
    "        if done:\n",
    "            print(\"Episode n= {} , Episode finished after {} timesteps, Reward=\".format(i_episode,t+1), cum_rewards)\n",
    "            break\n",
    "        t+=1\n",
    "env.close()"
   ]
  },
  {
   "cell_type": "markdown",
   "metadata": {},
   "source": [
    " Il s'agit là d'un cas particulier à l'entrainement Qlearning, l'agent fini par apprendre à ne pas dépenser de carburant du tout, on ne parvient alors jamais en haut de la montagne. Ce cas est rencontré avec une politique d'exploration faible (epsilon petit)."
   ]
  },
  {
   "cell_type": "code",
   "execution_count": null,
   "metadata": {},
   "outputs": [],
   "source": []
  }
 ],
 "metadata": {
  "kernelspec": {
   "display_name": "Python 3",
   "language": "python",
   "name": "python3"
  },
  "language_info": {
   "codemirror_mode": {
    "name": "ipython",
    "version": 3
   },
   "file_extension": ".py",
   "mimetype": "text/x-python",
   "name": "python",
   "nbconvert_exporter": "python",
   "pygments_lexer": "ipython3",
   "version": "3.7.3"
  }
 },
 "nbformat": 4,
 "nbformat_minor": 4
}
